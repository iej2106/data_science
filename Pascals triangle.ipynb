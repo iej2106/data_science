{
 "cells": [
  {
   "cell_type": "code",
   "execution_count": 29,
   "id": "518d100e",
   "metadata": {},
   "outputs": [
    {
     "data": {
      "text/plain": [
       "[[1], [1, 1], [1, 2, 1], [1, 3, 3, 1], [1, 4, 6, 4, 1]]"
      ]
     },
     "execution_count": 29,
     "metadata": {},
     "output_type": "execute_result"
    }
   ],
   "source": [
    "def generate(num_rows):\n",
    "    triangle = []\n",
    "\n",
    "    for row_num in range(num_rows):\n",
    "        # The first and last row elements are always 1.\n",
    "        row = [None for _ in range(row_num + 1)]\n",
    "        row[0], row[-1] = 1, 1\n",
    "\n",
    "            \n",
    "        for j in range(1, len(row) - 1):\n",
    "            row[j] = triangle[row_num - 1][j - 1] + triangle[row_num - 1][j]\n",
    "\n",
    "        triangle.append(row)\n",
    "\n",
    "    return triangle\n",
    "    \n",
    "generate(5)"
   ]
  },
  {
   "cell_type": "code",
   "execution_count": 36,
   "id": "ec9355ea",
   "metadata": {},
   "outputs": [
    {
     "name": "stdout",
     "output_type": "stream",
     "text": [
      "[[1], [1, 1], [1, 2, 1], [1, 3, 3, 1], [1, 4, 6, 4, 1]]\n"
     ]
    }
   ],
   "source": [
    "numRows = 5\n",
    "if numRows == 0: print([])\n",
    "elif numRows == 1: print([[1]])\n",
    "    \n",
    "Tri = [[1]]\n",
    "for i in range(1, numRows):\n",
    "    row = [1]\n",
    "    for j in range(1,i):\n",
    "        row.append(Tri[i-1][j-1] + Tri[i-1][j]) \n",
    "    row.append(1)\n",
    "    Tri.append(row)\n",
    "print(Tri)"
   ]
  },
  {
   "cell_type": "code",
   "execution_count": null,
   "id": "8a88a671",
   "metadata": {},
   "outputs": [],
   "source": []
  },
  {
   "cell_type": "code",
   "execution_count": null,
   "id": "2f3ac16d",
   "metadata": {},
   "outputs": [],
   "source": []
  }
 ],
 "metadata": {
  "kernelspec": {
   "display_name": "Python 3 (ipykernel)",
   "language": "python",
   "name": "python3"
  },
  "language_info": {
   "codemirror_mode": {
    "name": "ipython",
    "version": 3
   },
   "file_extension": ".py",
   "mimetype": "text/x-python",
   "name": "python",
   "nbconvert_exporter": "python",
   "pygments_lexer": "ipython3",
   "version": "3.8.3"
  }
 },
 "nbformat": 4,
 "nbformat_minor": 5
}
